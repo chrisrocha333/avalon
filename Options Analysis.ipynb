{
 "cells": [
  {
   "cell_type": "code",
   "execution_count": 1,
   "metadata": {},
   "outputs": [],
   "source": [
    "import pandas as pd\n",
    "from matplotlib import pyplot as plt\n",
    "import numpy as np\n",
    "from full_fred.fred import Fred\n",
    "import yfinance as yf\n",
    "from scipy import stats\n",
    "from mpl_toolkits.mplot3d import Axes3D\n",
    "import seaborn as sns\n",
    "import datetime\n",
    "from scipy.stats import norm\n",
    "from datetime import datetime\n",
    "import math"
   ]
  },
  {
   "cell_type": "code",
   "execution_count": 2,
   "metadata": {},
   "outputs": [],
   "source": [
    "def daily(x):\n",
    "    dta = yf.download(tickers=x,period='max',interval = '1d')\n",
    "    dta[x] = dta['Close']\n",
    "    dta = dta.drop(columns=['Open','High','Low','Close','Adj Close','Volume'])\n",
    "    dta[x] = np.array(dta[x])\n",
    "    return dta[x]\n",
    "\n",
    "def data(x,y):\n",
    "    a = fred.get_series_df(x,frequency=y)\n",
    "    a.value = a.value.replace('.',np.nan)\n",
    "    a.value = a.value.ffill()\n",
    "    a.index = a.date\n",
    "    a = a.drop(columns=['date','realtime_start','realtime_end'])\n",
    "    a.value = a.value.astype('float')\n",
    "    return a\n",
    "\n",
    "def black_scholes(S, X, t, r, sigma, option_type='call'):\n",
    "    \"\"\"\n",
    "    Calculate Black-Scholes option price.\n",
    "\n",
    "    Parameters:\n",
    "    S (float): Current stock price.\n",
    "    X (float): Strike price.\n",
    "    t (float): Time to expiration in years.\n",
    "    r (float): Risk-free interest rate.\n",
    "    sigma (float): Volatility of the stock.\n",
    "    option_type (str): 'call' or 'put'.\n",
    "\n",
    "    Returns:\n",
    "    float: Black-Scholes option price.\n",
    "    \"\"\"\n",
    "    # Convert inputs to floats if they are arrays\n",
    "    if isinstance(S, (np.ndarray, list)):\n",
    "        S = float(S[0])\n",
    "    if isinstance(X, (np.ndarray, list)):\n",
    "        X = float(X[0])\n",
    "    if isinstance(t, (np.ndarray, list)):\n",
    "        t = float(t[0])\n",
    "    if isinstance(r, (np.ndarray, list)):\n",
    "        r = float(r[0])\n",
    "    if isinstance(sigma, (np.ndarray, list)):\n",
    "        sigma = float(sigma[0])\n",
    "    \n",
    "    # Calculate d1 and d2\n",
    "    d1 = (math.log(S / X) + (r + 0.5 * sigma ** 2) * t) / (sigma * math.sqrt(t))\n",
    "    d2 = d1 - sigma * math.sqrt(t)\n",
    "    \n",
    "    if option_type == 'call':\n",
    "        # Calculate call option price\n",
    "        option_price = S * norm.cdf(d1) - X * math.exp(-r * t) * norm.cdf(d2)\n",
    "    elif option_type == 'put':\n",
    "        # Calculate put option price\n",
    "        option_price = X * math.exp(-r * t) * norm.cdf(-d2) - S * norm.cdf(-d1)\n",
    "    else:\n",
    "        raise ValueError(\"Option type must be 'call' or 'put'\")\n",
    "    \n",
    "    return option_price"
   ]
  },
  {
   "cell_type": "code",
   "execution_count": 3,
   "metadata": {},
   "outputs": [
    {
     "data": {
      "text/plain": [
       "True"
      ]
     },
     "execution_count": 3,
     "metadata": {},
     "output_type": "execute_result"
    }
   ],
   "source": [
    "fred = Fred('key.txt')\n",
    "fred.set_api_key_file('key.txt')"
   ]
  },
  {
   "cell_type": "markdown",
   "metadata": {},
   "source": [
    "For options analysis the 2 Year Treasury Yield used as RFR"
   ]
  },
  {
   "cell_type": "code",
   "execution_count": 4,
   "metadata": {},
   "outputs": [],
   "source": [
    "rfr = data(\"DGS2\",'d')"
   ]
  },
  {
   "cell_type": "code",
   "execution_count": 5,
   "metadata": {},
   "outputs": [],
   "source": [
    "current_rfr = rfr.tail(1)['value'].values/100"
   ]
  },
  {
   "cell_type": "code",
   "execution_count": 6,
   "metadata": {},
   "outputs": [],
   "source": [
    "def options_data(ticker,nth_expiration,type):\n",
    "    \n",
    "    x = yf.Ticker(ticker)\n",
    "    \n",
    "    option_type = ''\n",
    "    if type =='call':\n",
    "        option_type = 0\n",
    "    elif type =='put':\n",
    "        option_type = 1\n",
    "    \n",
    "    expirations = x.options\n",
    "    expiration = x.options[nth_expiration]\n",
    "    \n",
    "    data = x.option_chain(expiration)\n",
    "    data = data[option_type]\n",
    "    \n",
    "    stock = daily(ticker)\n",
    "    stock_monthly = stock.groupby(pd.Grouper(freq='ME')).mean()\n",
    "    stock_monthly_change = stock_monthly.pct_change().fillna(0)\n",
    "    sigma = stock_monthly_change.std()\n",
    "    current_price = stock.tail(1)\n",
    "    expiration = pd.to_datetime(expiration)\n",
    "\n",
    "    time_years = expiration - datetime.now()\n",
    "    time_years = time_years.total_seconds() / (24*60*60)\n",
    "    time_years = time_years/365.25   \n",
    "    return data , expirations, sigma, current_price.values, time_years, expiration\n",
    "\n",
    "def black_scholes(S, X, t, r, sigma, option_type='call'):\n",
    "    \"\"\"\n",
    "    Calculate Black-Scholes option price.\n",
    "\n",
    "    Parameters:\n",
    "    S (float): Current stock price.\n",
    "    X (float): Strike price.\n",
    "    t (float): Time to expiration in years.\n",
    "    r (float): Risk-free interest rate.\n",
    "    sigma (float): Volatility of the stock.\n",
    "    option_type (str): 'call' or 'put'.\n",
    "\n",
    "    Returns:\n",
    "    float: Black-Scholes option price.\n",
    "    \"\"\"\n",
    "    # Calculate d1 and d2\n",
    "    d1 = (math.log(S / X) + (r + 0.5 * sigma ** 2) * t) / (sigma * math.sqrt(t))\n",
    "    d2 = d1 - sigma * math.sqrt(t)\n",
    "    \n",
    "    if option_type == 'call':\n",
    "        # Calculate call option price\n",
    "        option_price = S * norm.cdf(d1) - X * math.exp(-r * t) * norm.cdf(d2)\n",
    "    elif option_type == 'put':\n",
    "        # Calculate put option price\n",
    "        option_price = X * math.exp(-r * t) * norm.cdf(-d2) - S * norm.cdf(-d1)\n",
    "    else:\n",
    "        raise ValueError(\"Option type must be 'call' or 'put'\")\n",
    "    \n",
    "    return option_price\n",
    "\n",
    "def calculate_greeks(S, X, t, r, sigma, option_type='call'):\n",
    "    \"\"\"\n",
    "    Calculate Black-Scholes option Greeks.\n",
    "\n",
    "    Parameters:\n",
    "    S (float): Current stock price.\n",
    "    X (float): Strike price.\n",
    "    t (float): Time to expiration in years.\n",
    "    r (float): Risk-free interest rate.\n",
    "    sigma (float): Volatility of the stock.\n",
    "    option_type (str): 'call' or 'put'.\n",
    "\n",
    "    Returns:\n",
    "    dict: A dictionary containing the option price and Greeks (Delta, Gamma, Theta, Vega, Rho).\n",
    "    \"\"\"\n",
    "    S = float(S)\n",
    "    X = float(X)\n",
    "    t = float(t)\n",
    "    r = float(r)\n",
    "    sigma = float(sigma)\n",
    "    \n",
    "    # Calculate d1 and d2\n",
    "    d1 = (math.log(S / X) + (r + 0.5 * sigma ** 2) * t) / (sigma * math.sqrt(t))\n",
    "    d2 = d1 - sigma * math.sqrt(t)\n",
    "    \n",
    "    option_price = black_scholes(S, X, t, r, sigma, option_type)\n",
    "    \n",
    "    # Calculate Greeks\n",
    "    delta = norm.cdf(d1) if option_type == 'call' else norm.cdf(d1) - 1\n",
    "    gamma = norm.pdf(d1) / (S * sigma * math.sqrt(t))\n",
    "    vega = S * norm.pdf(d1) * math.sqrt(t)\n",
    "    theta = (-S * norm.pdf(d1) * sigma / (2 * math.sqrt(t)) \n",
    "             - r * X * math.exp(-r * t) * norm.cdf(d2 if option_type == 'call' else -d2))\n",
    "    rho = X * t * math.exp(-r * t) * norm.cdf(d2 if option_type == 'call' else -d2)\n",
    "    \n",
    "    return {\n",
    "        'option_price': option_price,\n",
    "        'delta': delta,\n",
    "        'gamma': gamma,\n",
    "        'theta': theta,\n",
    "        'vega': vega,\n",
    "        'rho': rho\n",
    "    }\n",
    "    "
   ]
  },
  {
   "cell_type": "code",
   "execution_count": 7,
   "metadata": {},
   "outputs": [
    {
     "name": "stderr",
     "output_type": "stream",
     "text": [
      "[*********************100%%**********************]  1 of 1 completed\n"
     ]
    }
   ],
   "source": [
    "spy = options_data(\"SPY\",15,\"call\")"
   ]
  },
  {
   "cell_type": "code",
   "execution_count": 8,
   "metadata": {},
   "outputs": [
    {
     "name": "stderr",
     "output_type": "stream",
     "text": [
      "C:\\Users\\Yoga\\AppData\\Local\\Temp\\ipykernel_12644\\3545342168.py:1: DeprecationWarning: Conversion of an array with ndim > 0 to a scalar is deprecated, and will error in future. Ensure you extract a single element from your array before performing this operation. (Deprecated NumPy 1.25.)\n",
      "  black_scholes(float(spy[3]),spy[0][spy[0]['strike'] == 600]['strike'].values,spy[4],current_rfr,spy[0][spy[0]['strike'] == 600]['impliedVolatility'].values)\n",
      "C:\\Users\\Yoga\\AppData\\Local\\Temp\\ipykernel_12644\\2209688951.py:45: DeprecationWarning: Conversion of an array with ndim > 0 to a scalar is deprecated, and will error in future. Ensure you extract a single element from your array before performing this operation. (Deprecated NumPy 1.25.)\n",
      "  d1 = (math.log(S / X) + (r + 0.5 * sigma ** 2) * t) / (sigma * math.sqrt(t))\n",
      "C:\\Users\\Yoga\\AppData\\Local\\Temp\\ipykernel_12644\\2209688951.py:50: DeprecationWarning: Conversion of an array with ndim > 0 to a scalar is deprecated, and will error in future. Ensure you extract a single element from your array before performing this operation. (Deprecated NumPy 1.25.)\n",
      "  option_price = S * norm.cdf(d1) - X * math.exp(-r * t) * norm.cdf(d2)\n"
     ]
    },
    {
     "data": {
      "text/plain": [
       "array([3.475779])"
      ]
     },
     "execution_count": 8,
     "metadata": {},
     "output_type": "execute_result"
    }
   ],
   "source": [
    "black_scholes(float(spy[3]),spy[0][spy[0]['strike'] == 600]['strike'].values,spy[4],current_rfr,spy[0][spy[0]['strike'] == 600]['impliedVolatility'].values)"
   ]
  },
  {
   "cell_type": "code",
   "execution_count": 22,
   "metadata": {},
   "outputs": [
    {
     "data": {
      "text/plain": [
       "('2024-07-01',\n",
       " '2024-07-02',\n",
       " '2024-07-03',\n",
       " '2024-07-05',\n",
       " '2024-07-12',\n",
       " '2024-07-19',\n",
       " '2024-07-26',\n",
       " '2024-07-31',\n",
       " '2024-08-02',\n",
       " '2024-08-16',\n",
       " '2024-08-30',\n",
       " '2024-09-20',\n",
       " '2024-09-30',\n",
       " '2024-10-18',\n",
       " '2024-10-31',\n",
       " '2024-11-15',\n",
       " '2024-11-29',\n",
       " '2024-12-20',\n",
       " '2024-12-31',\n",
       " '2025-01-17',\n",
       " '2025-01-31',\n",
       " '2025-03-21',\n",
       " '2025-03-31',\n",
       " '2025-06-20',\n",
       " '2025-09-19',\n",
       " '2025-12-19',\n",
       " '2026-01-16',\n",
       " '2026-06-18',\n",
       " '2026-12-18')"
      ]
     },
     "execution_count": 22,
     "metadata": {},
     "output_type": "execute_result"
    }
   ],
   "source": [
    "x = yf.Ticker(\"SPY\")\n",
    "x.options"
   ]
  },
  {
   "cell_type": "code",
   "execution_count": 10,
   "metadata": {},
   "outputs": [
    {
     "name": "stderr",
     "output_type": "stream",
     "text": [
      "C:\\Users\\Yoga\\AppData\\Local\\Temp\\ipykernel_12644\\1455409644.py:1: DeprecationWarning: Conversion of an array with ndim > 0 to a scalar is deprecated, and will error in future. Ensure you extract a single element from your array before performing this operation. (Deprecated NumPy 1.25.)\n",
      "  calculate_greeks(float(spy[3]),spy[0][spy[0]['strike'] == 650]['strike'].values,spy[4],current_rfr,spy[0][spy[0]['strike'] == 650]['impliedVolatility'].values)\n",
      "C:\\Users\\Yoga\\AppData\\Local\\Temp\\ipykernel_12644\\2209688951.py:75: DeprecationWarning: Conversion of an array with ndim > 0 to a scalar is deprecated, and will error in future. Ensure you extract a single element from your array before performing this operation. (Deprecated NumPy 1.25.)\n",
      "  X = float(X)\n",
      "C:\\Users\\Yoga\\AppData\\Local\\Temp\\ipykernel_12644\\2209688951.py:77: DeprecationWarning: Conversion of an array with ndim > 0 to a scalar is deprecated, and will error in future. Ensure you extract a single element from your array before performing this operation. (Deprecated NumPy 1.25.)\n",
      "  r = float(r)\n",
      "C:\\Users\\Yoga\\AppData\\Local\\Temp\\ipykernel_12644\\2209688951.py:78: DeprecationWarning: Conversion of an array with ndim > 0 to a scalar is deprecated, and will error in future. Ensure you extract a single element from your array before performing this operation. (Deprecated NumPy 1.25.)\n",
      "  sigma = float(sigma)\n"
     ]
    },
    {
     "data": {
      "text/plain": [
       "{'option_price': 0.37816589297344905,\n",
       " 'delta': 0.02397127899078064,\n",
       " 'gamma': 0.0013083458872099971,\n",
       " 'theta': -3.815314590457727,\n",
       " 'vega': 18.87273933438805,\n",
       " 'rho': 4.78575456964488}"
      ]
     },
     "execution_count": 10,
     "metadata": {},
     "output_type": "execute_result"
    }
   ],
   "source": [
    "calculate_greeks(float(spy[3]),spy[0][spy[0]['strike'] == 650]['strike'].values,spy[4],current_rfr,spy[0][spy[0]['strike'] == 650]['impliedVolatility'].values)"
   ]
  },
  {
   "cell_type": "code",
   "execution_count": null,
   "metadata": {},
   "outputs": [],
   "source": [
    "def options_data(ticker,type):\n",
    "    x = yf.Ticker(ticker)\n",
    "    option_type = ''\n",
    "    if type =='call':\n",
    "        option_type = 0\n",
    "    elif type =='put':\n",
    "        option_type = 1\n",
    "        \n",
    "    data = x.option_chain[option_type]\n",
    "    \n",
    "    "
   ]
  },
  {
   "cell_type": "code",
   "execution_count": null,
   "metadata": {},
   "outputs": [],
   "source": [
    "def options_data(ticker,nth_expiration,type):\n",
    "    \n",
    "    x = yf.Ticker(ticker)\n",
    "    \n",
    "    option_type = ''\n",
    "    if type =='call':\n",
    "        option_type = 0\n",
    "    elif type =='put':\n",
    "        option_type = 1\n",
    "    \n",
    "    expirations = x.options\n",
    "    expiration = x.options[nth_expiration]\n",
    "    \n",
    "    data = x.option_chain(expiration)\n",
    "    data = data[option_type]\n",
    "    \n",
    "    stock = daily(ticker)\n",
    "    stock_monthly = stock.groupby(pd.Grouper(freq='ME')).mean()\n",
    "    stock_monthly_change = stock_monthly.pct_change().fillna(0)\n",
    "    sigma = stock_monthly_change.std()\n",
    "    current_price = stock.tail(1)\n",
    "    expiration = pd.to_datetime(expiration)\n",
    "\n",
    "    time_years = expiration - datetime.now()\n",
    "    time_years = time_years.total_seconds() / (24*60*60)\n",
    "    time_years = time_years/365.25   \n",
    "    return data , expirations, sigma, current_price.values, time_years, expiration"
   ]
  }
 ],
 "metadata": {
  "kernelspec": {
   "display_name": "Python 3",
   "language": "python",
   "name": "python3"
  },
  "language_info": {
   "codemirror_mode": {
    "name": "ipython",
    "version": 3
   },
   "file_extension": ".py",
   "mimetype": "text/x-python",
   "name": "python",
   "nbconvert_exporter": "python",
   "pygments_lexer": "ipython3",
   "version": "3.12.2"
  }
 },
 "nbformat": 4,
 "nbformat_minor": 2
}
