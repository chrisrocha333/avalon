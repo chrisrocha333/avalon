{
 "cells": [
  {
   "cell_type": "code",
   "execution_count": 1,
   "metadata": {},
   "outputs": [],
   "source": [
    "import pandas as pd\n",
    "from matplotlib import pyplot as plt\n",
    "import numpy as np\n",
    "from full_fred.fred import Fred\n",
    "import yfinance as yf\n",
    "from scipy import stats\n",
    "from mpl_toolkits.mplot3d import Axes3D\n",
    "import seaborn as sns\n",
    "from reportlab.lib.pagesizes import A4\n",
    "from reportlab.platypus import SimpleDocTemplate, Table, TableStyle, Paragraph, Spacer, Image\n",
    "from reportlab.lib import colors\n",
    "from reportlab.lib.styles import getSampleStyleSheet\n",
    "from reportlab.lib.units import inch\n",
    "from io import BytesIO\n",
    "from reportlab.lib.styles import ParagraphStyle\n",
    "import glob\n",
    "import jinja2\n",
    "import pdfkit\n",
    "import datetime\n",
    "from scipy.stats import norm\n",
    "from datetime import datetime"
   ]
  },
  {
   "cell_type": "code",
   "execution_count": 2,
   "metadata": {},
   "outputs": [
    {
     "data": {
      "text/plain": [
       "True"
      ]
     },
     "execution_count": 2,
     "metadata": {},
     "output_type": "execute_result"
    }
   ],
   "source": [
    "fred = Fred('key.txt')\n",
    "fred.set_api_key_file('key.txt')"
   ]
  },
  {
   "cell_type": "code",
   "execution_count": 3,
   "metadata": {},
   "outputs": [],
   "source": [
    "def daily(x):\n",
    "    dta = yf.download(tickers=x,period='max',interval = '1d')\n",
    "    dta[x] = dta['Close']\n",
    "    dta = dta.drop(columns=['Open','High','Low','Close','Adj Close','Volume'])\n",
    "    dta[x] = np.array(dta[x])\n",
    "    return dta[x]\n",
    "\n",
    "def meta_data(x):\n",
    "    y = fred.get_a_series(x)\n",
    "    dta = pd.DataFrame(y['seriess']).transpose()\n",
    "    return dta\n",
    "\n",
    "def data(x,y):\n",
    "    a = fred.get_series_df(x,frequency=y)\n",
    "    a.value = a.value.replace('.',np.nan)\n",
    "    a.value = a.value.ffill()\n",
    "    a.index = a.date\n",
    "    a = a.drop(columns=['date','realtime_start','realtime_end'])\n",
    "    a.value = a.value.astype('float')\n",
    "    return a\n",
    "\n",
    "def data2(x):\n",
    "    a = fred.get_series_df(x,frequency='d')\n",
    "    a.value = a.value.replace('.',np.nan)\n",
    "    a.value = a.value.ffill()\n",
    "    a.index = a.date\n",
    "    a = a.drop(columns=['date','realtime_start','realtime_end'])\n",
    "    a.value = a.value.astype('float')\n",
    "    return a\n",
    "\n",
    "def fed_annual(x):\n",
    "    a = fred.get_series_df(x,frequency='a')\n",
    "    a.value = a.value.replace('.',np.nan)\n",
    "    a.value = a.value.ffill()\n",
    "    a.index = pd.to_datetime(a.date)\n",
    "    a = a.drop(columns=['date','realtime_start','realtime_end'])\n",
    "    a.value = a.value.astype('float')\n",
    "    return a"
   ]
  },
  {
   "cell_type": "code",
   "execution_count": null,
   "metadata": {},
   "outputs": [],
   "source": [
    "tickers = ['']"
   ]
  }
 ],
 "metadata": {
  "kernelspec": {
   "display_name": "Python 3",
   "language": "python",
   "name": "python3"
  },
  "language_info": {
   "codemirror_mode": {
    "name": "ipython",
    "version": 3
   },
   "file_extension": ".py",
   "mimetype": "text/x-python",
   "name": "python",
   "nbconvert_exporter": "python",
   "pygments_lexer": "ipython3",
   "version": "3.12.2"
  }
 },
 "nbformat": 4,
 "nbformat_minor": 2
}
